{
 "cells": [
  {
   "cell_type": "code",
   "execution_count": null,
   "metadata": {
    "colab": {
     "base_uri": "https://localhost:8080/",
     "height": 52
    },
    "colab_type": "code",
    "id": "Feo9SrRw7py8",
    "outputId": "93230407-87e0-447b-c9b5-7bc51067ae51"
   },
   "outputs": [],
   "source": [
    "import pandas as pd\n",
    "import numpy as np\n",
    "from os import system\n",
    "\n",
    "import tensorflow as tf\n",
    "import keras\n",
    "from scipy import ndimage\n",
    "from keras.preprocessing import image\n",
    "from keras.models import Sequential\n",
    "from keras.applications.vgg19 import preprocess_input\n",
    "\n",
    "from keras.layers import Activation\n",
    "from keras.layers.core import Dense, Flatten\n",
    "from keras.optimizers import Adam\n",
    "from keras.metrics import categorical_crossentropy\n",
    "from keras.preprocessing.image import ImageDataGenerator\n",
    "from keras.layers.normalization import BatchNormalization\n",
    "from keras.layers.convolutional import *\n",
    "\n",
    "import matplotlib.pyplot as plt\n",
    "from sklearn.metrics import confusion_matrix\n",
    "import datetime\n",
    "\n",
    "%load_ext tensorboard"
   ]
  },
  {
   "cell_type": "code",
   "execution_count": null,
   "metadata": {
    "colab": {
     "base_uri": "https://localhost:8080/",
     "height": 34
    },
    "colab_type": "code",
    "id": "Cq4p9aKeFuDg",
    "outputId": "501cb2a0-4153-4a1b-9fad-b0bf9e2e4e86"
   },
   "outputs": [],
   "source": [
    "system(\"unzip test.zip\")\n",
    "system(\"unzip train.zip\")"
   ]
  },
  {
   "cell_type": "code",
   "execution_count": null,
   "metadata": {
    "colab": {},
    "colab_type": "code",
    "id": "AE3DufJI72oW"
   },
   "outputs": [],
   "source": [
    "train_path = \"train\"\n",
    "test_path = \"test\"\n",
    "classes = pd.read_csv(\"drive/My Drive/label.csv\", header=None, squeeze=True).tolist()[1:]"
   ]
  },
  {
   "cell_type": "code",
   "execution_count": null,
   "metadata": {
    "colab": {
     "base_uri": "https://localhost:8080/",
     "height": 52
    },
    "colab_type": "code",
    "id": "0o938-n-72qq",
    "outputId": "444724dc-dd0e-46ba-86dd-2af8b74f4dc3"
   },
   "outputs": [],
   "source": [
    "train_batches = ImageDataGenerator(horizontal_flip=True).flow_from_directory(train_path, target_size = (224,224), classes=classes, batch_size = 50)\n",
    "test_batches = ImageDataGenerator(horizontal_flip=True).flow_from_directory(test_path, target_size = (224,224), classes=classes, batch_size = 50)"
   ]
  },
  {
   "cell_type": "code",
   "execution_count": null,
   "metadata": {
    "colab": {},
    "colab_type": "code",
    "id": "rDoMnKje72s1"
   },
   "outputs": [],
   "source": [
    "vgg_19 = keras.applications.vgg19.VGG19()\n",
    "mod = Sequential()\n",
    "for layer in vgg_19.layers:\n",
    "    mod.add(layer)\n",
    "for layer in mod.layers:\n",
    "    layer.trainable = False\n",
    "mod.layers.pop()\n",
    "mod.add(Dense(355, activation=\"softmax\"))\n",
    "mod.compile(Adam(lr=.00005), loss=\"categorical_crossentropy\",metrics=[tf.keras.metrics.TopKCategoricalAccuracy(k=3), \"accuracy\"])"
   ]
  },
  {
   "cell_type": "code",
   "execution_count": null,
   "metadata": {
    "colab": {
     "base_uri": "https://localhost:8080/",
     "height": 1000
    },
    "colab_type": "code",
    "id": "LS7fMByA72vK",
    "outputId": "c264fe79-cd17-45ac-c11d-765251a744cf"
   },
   "outputs": [],
   "source": [
    "!rm -rf ./logs/\n",
    "log_dir = \"logs/fit/\" + datetime.datetime.now().strftime(\"%Y%m%d-%H%M%S\")\n",
    "tensorboard_callback = tf.keras.callbacks.TensorBoard(log_dir=log_dir, histogram_freq=1)\n",
    "mod.fit(train_batches, validation_data =  test_batches, epochs = 7, callbacks=[tensorboard_callback], verbose =1)"
   ]
  },
  {
   "cell_type": "code",
   "execution_count": null,
   "metadata": {
    "colab": {},
    "colab_type": "code",
    "id": "PFGkZwhi72xb"
   },
   "outputs": [],
   "source": [
    "%tensorboard --logdir logs/\n",
    "mod.save(\"full1\")"
   ]
  }
 ],
 "metadata": {
  "accelerator": "TPU",
  "colab": {
   "collapsed_sections": [],
   "machine_shape": "hm",
   "name": "vgg19",
   "provenance": []
  },
  "kernelspec": {
   "display_name": "Python 3",
   "language": "python",
   "name": "python3"
  },
  "language_info": {
   "codemirror_mode": {
    "name": "ipython",
    "version": 3
   },
   "file_extension": ".py",
   "mimetype": "text/x-python",
   "name": "python",
   "nbconvert_exporter": "python",
   "pygments_lexer": "ipython3",
   "version": "3.8.2"
  }
 },
 "nbformat": 4,
 "nbformat_minor": 4
}
